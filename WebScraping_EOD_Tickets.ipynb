{
 "cells": [
  {
   "cell_type": "code",
   "execution_count": null,
   "id": "3fde511a",
   "metadata": {},
   "outputs": [],
   "source": [
    "import pandas as pd\n",
    "import numpy as np\n",
    "import multiprocessing as mp\n",
    "import urllib.request, json\n",
    "\n",
    "from eod import EodHistoricalData\n",
    "\n",
    "api = EodHistoricalData(\"5f3afd582bd7b4.95720069\")\n",
    "\n",
    "def get_ticker_details(ticker):\n",
    "    url = f\"https://eodhistoricaldata.com/api/fundamentals/{ticker}?api_token=5f3afd582bd7b4.95720069&order=d&fmt=json\"\n",
    "    try:\n",
    "        response = urllib.request.urlopen(url, timeout=5)\n",
    "        data = json.loads(response.read())\n",
    "    except Exception as e:\n",
    "        print(f\"Error fetching {ticker}: {e}\")\n",
    "        return None\n",
    "    \n",
    "    if data.get('General'):\n",
    "        Name = data[\"General\"].get(\"Name\", None)\n",
    "        Country = data[\"General\"].get(\"CountryName\", None)\n",
    "        Code = data[\"General\"].get(\"Code\", None)\n",
    "        Exchange = data[\"General\"].get(\"Exchange\", None)\n",
    "        Primary_ticker = ticker\n",
    "        Currency = data[\"General\"].get(\"CurrencyCode\", None)\n",
    "        Type = data[\"General\"].get(\"Type\", None)\n",
    "        Industry = data[\"General\"].get(\"Industry\", None)\n",
    "        Sector = data[\"General\"].get(\"Sector\", None)\n",
    "    else:\n",
    "        return None\n",
    "    df = pd.DataFrame({'Name' : [Name], \n",
    "                        'Country' : [Country], \n",
    "                        'Code' : [Code], \n",
    "                        'Exchange' : [Exchange], \n",
    "                       'Primary_ticker' : [Primary_ticker], \n",
    "                       'Currency' : [Currency], \n",
    "                       'Type' : [Type], \n",
    "                       'Industry' : [Industry], \n",
    "                       'Sector' : [Sector]})\n",
    "    print('Finished with current ticker: ' + ticker)\n",
    "    return df\n",
    "\n",
    "tickers = pd.read_csv(\"exchange_details.csv\").Ticker.to_list()\n",
    "sub_tickers = tickers[200000:]\n",
    "\n",
    "if __name__ == '__main__':\n",
    "    with mp.Pool(mp.cpu_count()) as pool:\n",
    "        dfs_ = pool.map(get_ticker_details, sub_tickers)\n",
    "    sub_combined_df = pd.concat([df for df in dfs_ if df is not None])\n",
    "    sub_combined_df.to_csv(\"ticker_details_20.csv\", index = False)"
   ]
  }
 ],
 "metadata": {
  "kernelspec": {
   "display_name": "Python 3 (ipykernel)",
   "language": "python",
   "name": "python3"
  },
  "language_info": {
   "codemirror_mode": {
    "name": "ipython",
    "version": 3
   },
   "file_extension": ".py",
   "mimetype": "text/x-python",
   "name": "python",
   "nbconvert_exporter": "python",
   "pygments_lexer": "ipython3",
   "version": "3.9.18"
  }
 },
 "nbformat": 4,
 "nbformat_minor": 5
}
