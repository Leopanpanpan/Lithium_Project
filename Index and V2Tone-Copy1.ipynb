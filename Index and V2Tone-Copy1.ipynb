{
 "cells": [
  {
   "cell_type": "markdown",
   "id": "85e8c26c",
   "metadata": {},
   "source": [
    "# Index and V2Tone"
   ]
  },
  {
   "cell_type": "code",
   "execution_count": 1,
   "id": "96fd1cb3",
   "metadata": {},
   "outputs": [
    {
     "name": "stderr",
     "output_type": "stream",
     "text": [
      "/var/folders/zt/189mf2t90735h7tl2pb0fw4c0000gn/T/ipykernel_900/3063355716.py:17: FutureWarning: Dropping of nuisance columns in DataFrame reductions (with 'numeric_only=None') is deprecated; in a future version this will raise TypeError.  Select only valid columns before calling the reduction.\n",
      "  data.fillna(data.mean(), inplace=True)\n"
     ]
    }
   ],
   "source": [
    "import pandas as pd\n",
    "import numpy as np\n",
    "from sklearn.model_selection import train_test_split\n",
    "from sklearn.linear_model import LinearRegression\n",
    "from sklearn.preprocessing import PolynomialFeatures\n",
    "from sklearn.tree import DecisionTreeRegressor\n",
    "from sklearn.metrics import mean_squared_error, r2_score\n",
    "import matplotlib.pyplot as plt\n",
    "\n",
    "# Assuming your data is in a CSV file called 'data.csv'\n",
    "data = pd.read_csv('indexv2.csv')\n",
    "\n",
    "# Replace '#N/A' with numpy.nan\n",
    "data.replace('#N/A', np.nan, inplace=True)\n",
    "\n",
    "# Fill missing values with the mean\n",
    "data.fillna(data.mean(), inplace=True)\n",
    "\n",
    "# Define X and Y\n",
    "X = data[['V2Tone']]\n",
    "Y = data['Index Return']\n",
    "\n",
    "# Split the data into training and test sets\n",
    "X_train, X_test, Y_train, Y_test = train_test_split(X, Y, test_size=0.2, random_state=42)"
   ]
  },
  {
   "cell_type": "markdown",
   "id": "c8697f30",
   "metadata": {},
   "source": [
    "# Linear Regression:\n"
   ]
  },
  {
   "cell_type": "code",
   "execution_count": 2,
   "id": "c6160874",
   "metadata": {},
   "outputs": [
    {
     "name": "stdout",
     "output_type": "stream",
     "text": [
      "Coefficients: \n",
      " [-0.00021567]\n",
      "Mean squared error: 0.00\n",
      "Coefficient of determination: -0.02\n"
     ]
    }
   ],
   "source": [
    "# Create a Linear Regression model\n",
    "lin_reg = LinearRegression()\n",
    "\n",
    "# Train the model\n",
    "lin_reg.fit(X_train, Y_train)\n",
    "\n",
    "# Predict the values\n",
    "Y_pred_lin = lin_reg.predict(X_test)\n",
    "\n",
    "# Print the coefficients\n",
    "print('Coefficients: \\n', lin_reg.coef_)\n",
    "\n",
    "# Print mean squared error\n",
    "print('Mean squared error: %.2f' % mean_squared_error(Y_test, Y_pred_lin))\n",
    "\n",
    "# Print coefficient of determination (1 is perfect prediction)\n",
    "print('Coefficient of determination: %.2f' % r2_score(Y_test, Y_pred_lin))"
   ]
  },
  {
   "cell_type": "markdown",
   "id": "ca81a4e6",
   "metadata": {},
   "source": [
    "# Polynomial Regression:"
   ]
  },
  {
   "cell_type": "code",
   "execution_count": 3,
   "id": "7ee70ca3",
   "metadata": {},
   "outputs": [
    {
     "name": "stdout",
     "output_type": "stream",
     "text": [
      "Mean squared error: 0.00\n",
      "Coefficient of determination: -0.07\n"
     ]
    }
   ],
   "source": [
    "# Create Polynomial Features\n",
    "poly = PolynomialFeatures(degree=2)\n",
    "X_poly = poly.fit_transform(X_train)\n",
    "\n",
    "# Create a Linear Regression model\n",
    "poly_reg = LinearRegression()\n",
    "\n",
    "# Train the model\n",
    "poly_reg.fit(X_poly, Y_train)\n",
    "\n",
    "# Predict the values\n",
    "Y_pred_poly = poly_reg.predict(poly.transform(X_test))\n",
    "\n",
    "# Print mean squared error\n",
    "print('Mean squared error: %.2f' % mean_squared_error(Y_test, Y_pred_poly))\n",
    "\n",
    "# Print coefficient of determination (1 is perfect prediction)\n",
    "print('Coefficient of determination: %.2f' % r2_score(Y_test, Y_pred_poly))"
   ]
  },
  {
   "cell_type": "markdown",
   "id": "58a3cbd4",
   "metadata": {},
   "source": [
    "# Decision Tree"
   ]
  },
  {
   "cell_type": "code",
   "execution_count": 4,
   "id": "377790a7",
   "metadata": {},
   "outputs": [
    {
     "name": "stdout",
     "output_type": "stream",
     "text": [
      "Mean squared error: 0.00\n",
      "Coefficient of determination: -1.23\n"
     ]
    }
   ],
   "source": [
    "# Create a Decision Tree Regression model\n",
    "tree_reg = DecisionTreeRegressor()\n",
    "\n",
    "# Train the model\n",
    "tree_reg.fit(X_train, Y_train)\n",
    "\n",
    "# Predict the values\n",
    "Y_pred_tree = tree_reg.predict(X_test)\n",
    "\n",
    "# Print mean squared error\n",
    "print('Mean squared error: %.2f' % mean_squared_error(Y_test, Y_pred_tree))\n",
    "\n",
    "# Print coefficient of determination (1 is perfect prediction)\n",
    "print('Coefficient of determination: %.2f' % r2_score(Y_test, Y_pred_tree))"
   ]
  },
  {
   "cell_type": "code",
   "execution_count": null,
   "id": "cb9b6f9f",
   "metadata": {},
   "outputs": [],
   "source": []
  }
 ],
 "metadata": {
  "kernelspec": {
   "display_name": "Python 3 (ipykernel)",
   "language": "python",
   "name": "python3"
  },
  "language_info": {
   "codemirror_mode": {
    "name": "ipython",
    "version": 3
   },
   "file_extension": ".py",
   "mimetype": "text/x-python",
   "name": "python",
   "nbconvert_exporter": "python",
   "pygments_lexer": "ipython3",
   "version": "3.9.13"
  }
 },
 "nbformat": 4,
 "nbformat_minor": 5
}
