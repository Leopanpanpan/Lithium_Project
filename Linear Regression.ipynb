{
 "cells": [
  {
   "cell_type": "markdown",
   "id": "329d2d47",
   "metadata": {},
   "source": [
    "# Merge Data"
   ]
  },
  {
   "cell_type": "code",
   "execution_count": 8,
   "id": "0068c575",
   "metadata": {},
   "outputs": [],
   "source": [
    "import pandas as pd\n",
    "\n",
    "# Load CSV files into dataframes\n",
    "MergeX = pd.read_csv('MergeX.csv')\n",
    "MergeY = pd.read_csv('MergeY.csv')\n",
    "\n",
    "# convert the dates to pandas datetime objects\n",
    "MergeX['date'] = pd.to_datetime(MergeX['date'], format='%Y/%m/%d')\n",
    "MergeY['date'] = pd.to_datetime(MergeY['date'], format='%Y/%m/%d')\n",
    "\n",
    "# adjust the dates to the beginning of the week\n",
    "MergeX['week_start_date'] = MergeX['date'] - pd.to_timedelta(MergeX['date'].dt.dayofweek, unit='d')\n",
    "MergeY['week_start_date'] = MergeY['date'] - pd.to_timedelta(MergeY['date'].dt.dayofweek, unit='d')\n",
    "\n",
    "# now you can merge the two dataframes on the week_start_date column\n",
    "merged = pd.merge(MergeX, MergeY, on='week_start_date', how='outer')\n",
    "\n",
    "# if you want to sort the merged dataframe by week_start_date\n",
    "merged = merged.sort_values(by='week_start_date')\n",
    "\n",
    "# Export the merged data to a CSV file\n",
    "#merged.to_csv('merged.csv', index=False)\n"
   ]
  },
  {
   "cell_type": "markdown",
   "id": "221e815a",
   "metadata": {},
   "source": [
    "# Linear Regression"
   ]
  },
  {
   "cell_type": "code",
   "execution_count": 9,
   "id": "3d235492",
   "metadata": {},
   "outputs": [
    {
     "name": "stdout",
     "output_type": "stream",
     "text": [
      "Coefficients: \n",
      " [[0.03117071]]\n",
      "Mean squared error: 0.00\n",
      "Coefficient of determination: -0.11\n"
     ]
    }
   ],
   "source": [
    "import pandas as pd\n",
    "from sklearn.model_selection import train_test_split \n",
    "from sklearn.linear_model import LinearRegression\n",
    "from sklearn import metrics\n",
    "\n",
    "# Load CSV file into dataframe\n",
    "data = pd.read_csv('cleanmerged.csv')\n",
    "\n",
    "# Fill missing values in 'Y' column with 0\n",
    "data['Y'] = data['Y'].fillna(0)\n",
    "\n",
    "# Extract X and Y\n",
    "X = data['X'].values.reshape(-1,1)\n",
    "Y = data['Y'].values.reshape(-1,1)\n",
    "\n",
    "# Split the data into training/testing sets\n",
    "X_train, X_test, Y_train, Y_test = train_test_split(X, Y, test_size=0.2, random_state=0)\n",
    "\n",
    "# Create a linear regression object\n",
    "regr = LinearRegression()\n",
    "\n",
    "# Train the model using the training sets\n",
    "regr.fit(X_train, Y_train)\n",
    "\n",
    "# Make predictions using the testing set\n",
    "Y_pred = regr.predict(X_test)\n",
    "\n",
    "# The coefficients\n",
    "print('Coefficients: \\n', regr.coef_)\n",
    "\n",
    "# The mean squared error\n",
    "print('Mean squared error: %.2f'\n",
    "      % metrics.mean_squared_error(Y_test, Y_pred))\n",
    "\n",
    "# The coefficient of determination: 1 is perfect prediction\n",
    "print('Coefficient of determination: %.2f'\n",
    "      % metrics.r2_score(Y_test, Y_pred))"
   ]
  },
  {
   "cell_type": "markdown",
   "id": "55d45264",
   "metadata": {},
   "source": [
    "# Daily Lithium Price"
   ]
  },
  {
   "cell_type": "code",
   "execution_count": 13,
   "id": "97c5a940",
   "metadata": {},
   "outputs": [
    {
     "name": "stdout",
     "output_type": "stream",
     "text": [
      "             Close\n",
      "Date              \n",
      "2017-05-10  136000\n",
      "2017-05-11  136000\n",
      "2017-05-12  136000\n",
      "2017-05-15  136000\n",
      "2017-05-16  136000\n",
      "\n",
      "Statistical summary:\n",
      "count      1496.00000\n",
      "mean     176106.11631\n",
      "std      160633.04864\n",
      "min       39000.00000\n",
      "25%       65500.00000\n",
      "50%       97000.00000\n",
      "75%      192500.00000\n",
      "max      597500.00000\n",
      "Name: Close, dtype: float64\n"
     ]
    }
   ],
   "source": [
    "# Import the required library\n",
    "import pandas as pd\n",
    "\n",
    "# Load the data\n",
    "df = pd.read_csv('Lithium_futures_price 1.csv')\n",
    "\n",
    "# Convert the 'date' column to datetime if it's not\n",
    "df['Date'] = pd.to_datetime(df['Date'])\n",
    "\n",
    "# Ensure data is sorted by date\n",
    "df = df.sort_values('Date')\n",
    "\n",
    "# Set the 'date' column as the index of the DataFrame\n",
    "df.set_index('Date', inplace=True)\n",
    "\n",
    "# Check the first few rows of the DataFrame\n",
    "print(df.head())\n",
    "\n",
    "# Provide a statistical summary of the 'close' prices\n",
    "summary = df['Close'].describe()\n",
    "\n",
    "print(\"\\nStatistical summary:\")\n",
    "print(summary)\n"
   ]
  },
  {
   "cell_type": "markdown",
   "id": "7e3ca19e",
   "metadata": {},
   "source": [
    "# Weekly Lithium Price"
   ]
  },
  {
   "cell_type": "code",
   "execution_count": 20,
   "id": "2ed99a3f",
   "metadata": {},
   "outputs": [
    {
     "name": "stdout",
     "output_type": "stream",
     "text": [
      "            logreturn     Close\n",
      "date                           \n",
      "2017-05-10        NaN  136000.0\n",
      "2017-05-15   0.003054  141000.0\n",
      "2017-05-22   0.000000  141000.0\n",
      "2017-05-30   0.001188  143000.0\n",
      "2017-06-05   0.000879  144500.0\n",
      "\n",
      "Statistical summary:\n",
      "count       310.000000\n",
      "mean     175441.935484\n",
      "std      160724.590112\n",
      "min       39000.000000\n",
      "25%       65500.000000\n",
      "50%       97500.000000\n",
      "75%      190000.000000\n",
      "max      597500.000000\n",
      "Name: Close, dtype: float64\n"
     ]
    }
   ],
   "source": [
    "# Import the required library\n",
    "import pandas as pd\n",
    "\n",
    "# Load the data\n",
    "df = pd.read_csv('weeklylog.csv')\n",
    "\n",
    "# Convert the 'date' column to datetime if it's not\n",
    "df['date'] = pd.to_datetime(df['date'])\n",
    "\n",
    "# Ensure data is sorted by date\n",
    "df = df.sort_values('date')\n",
    "\n",
    "# Set the 'date' column as the index of the DataFrame\n",
    "df.set_index('date', inplace=True)\n",
    "\n",
    "# Check the first few rows of the DataFrame\n",
    "print(df.head())\n",
    "\n",
    "# Provide a statistical summary of the 'Close' prices\n",
    "summary = df['Close'].describe()\n",
    "\n",
    "print(\"\\nStatistical summary:\")\n",
    "print(summary)\n"
   ]
  },
  {
   "cell_type": "code",
   "execution_count": null,
   "id": "fa2d54f4",
   "metadata": {},
   "outputs": [],
   "source": []
  }
 ],
 "metadata": {
  "kernelspec": {
   "display_name": "Python 3 (ipykernel)",
   "language": "python",
   "name": "python3"
  },
  "language_info": {
   "codemirror_mode": {
    "name": "ipython",
    "version": 3
   },
   "file_extension": ".py",
   "mimetype": "text/x-python",
   "name": "python",
   "nbconvert_exporter": "python",
   "pygments_lexer": "ipython3",
   "version": "3.9.18"
  }
 },
 "nbformat": 4,
 "nbformat_minor": 5
}
